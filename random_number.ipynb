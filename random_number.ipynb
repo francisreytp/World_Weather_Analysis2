{
 "cells": [
  {
   "cell_type": "code",
   "execution_count": 13,
   "metadata": {},
   "outputs": [],
   "source": [
    "# Import the NumPy module.\n",
    "import numpy as np"
   ]
  },
  {
   "cell_type": "code",
   "execution_count": 14,
   "metadata": {},
   "outputs": [],
   "source": [
    "import random"
   ]
  },
  {
   "cell_type": "code",
   "execution_count": 15,
   "metadata": {},
   "outputs": [
    {
     "data": {
      "text/plain": [
       "-6"
      ]
     },
     "execution_count": 15,
     "metadata": {},
     "output_type": "execute_result"
    }
   ],
   "source": [
    "random.randint(-90,90)"
   ]
  },
  {
   "cell_type": "code",
   "execution_count": 16,
   "metadata": {},
   "outputs": [
    {
     "data": {
      "text/plain": [
       "0.293056342160689"
      ]
     },
     "execution_count": 16,
     "metadata": {},
     "output_type": "execute_result"
    }
   ],
   "source": [
    "random.random()"
   ]
  },
  {
   "cell_type": "code",
   "execution_count": 17,
   "metadata": {},
   "outputs": [
    {
     "name": "stdout",
     "output_type": "stream",
     "text": [
      "[-6.289474345996827, -20.507701093574596, 54.65421218939459, 62.44377536362892, -87.90914496768013, -79.01810610700554, -41.4955748989675, -37.178210111593316, 24.994412185638918, 80.53469956768619]\n"
     ]
    }
   ],
   "source": [
    "# generate ramdom latitudes\n",
    "x = 1\n",
    "\n",
    "latitudes = []\n",
    "while x < 11:\n",
    "    random_lat = random.randint(-90, 90) + random.random()\n",
    "    latitudes.append(random_lat)\n",
    "    x += 1\n",
    "    \n",
    "print(latitudes)"
   ]
  },
  {
   "cell_type": "code",
   "execution_count": 18,
   "metadata": {},
   "outputs": [
    {
     "name": "stdout",
     "output_type": "stream",
     "text": [
      "[-46.72068119047308, 34.38105041247746, -74.22425447347523, -19.282348299782537, 11.131464213176278, -63.64798767863733, 45.49576301590345, 88.81415461550698, 41.68617006603991, 85.76946208190125]\n"
     ]
    }
   ],
   "source": [
    "# generate ramdom latitudes\n",
    "y = 1\n",
    "\n",
    "longitudes = []\n",
    "while y < 11:\n",
    "    random_long = random.randint(-90, 90) + random.random()\n",
    "    longitudes.append(random_long)\n",
    "    y += 1\n",
    "    \n",
    "print(longitudes)"
   ]
  },
  {
   "cell_type": "code",
   "execution_count": 20,
   "metadata": {},
   "outputs": [
    {
     "data": {
      "text/plain": [
       "31.02736148063535"
      ]
     },
     "execution_count": 20,
     "metadata": {},
     "output_type": "execute_result"
    }
   ],
   "source": [
    "np.random.uniform(-90.000, 90.000)"
   ]
  },
  {
   "cell_type": "code",
   "execution_count": 21,
   "metadata": {},
   "outputs": [
    {
     "data": {
      "text/plain": [
       "array([ 60.65601596, -46.78128955, -38.6708009 , -81.33505464,\n",
       "         4.8951257 , -18.7137189 ,  73.02464372, -63.04327244,\n",
       "        36.81728837, -47.68541358, -44.65068662, -78.63738649,\n",
       "         9.87387468, -87.20233785, -40.02574857,  27.226056  ,\n",
       "        66.28010815,  55.48736234, -12.65321973, -51.09467524,\n",
       "       -31.84569845,  49.83436176,  54.86356609, -65.47874987,\n",
       "       -36.85593224, -17.15109067, -55.594787  , -87.76238261,\n",
       "        77.5450537 ,  84.24786457, -84.59555743, -10.29588483,\n",
       "       -53.31969202, -78.7811112 , -84.03363779, -31.1023581 ,\n",
       "       -12.98990206, -57.47200899, -63.05864491, -48.85582985,\n",
       "       -44.23535183,  -7.12127732, -20.88629373,  54.73983258,\n",
       "       -64.66478185,  -8.53581086, -42.28449039, -73.38399525,\n",
       "       -22.99786579, -19.83119531])"
      ]
     },
     "execution_count": 21,
     "metadata": {},
     "output_type": "execute_result"
    }
   ],
   "source": [
    "np.random.uniform(-90.000, 90.000, size=50)"
   ]
  }
 ],
 "metadata": {
  "kernelspec": {
   "display_name": "PythonData",
   "language": "python",
   "name": "pythondata"
  },
  "language_info": {
   "codemirror_mode": {
    "name": "ipython",
    "version": 3
   },
   "file_extension": ".py",
   "mimetype": "text/x-python",
   "name": "python",
   "nbconvert_exporter": "python",
   "pygments_lexer": "ipython3",
   "version": "3.7.4"
  }
 },
 "nbformat": 4,
 "nbformat_minor": 2
}
